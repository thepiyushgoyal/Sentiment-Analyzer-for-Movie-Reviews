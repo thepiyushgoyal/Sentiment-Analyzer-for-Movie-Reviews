{
 "cells": [
  {
   "cell_type": "code",
   "execution_count": 18,
   "metadata": {
    "colab": {},
    "colab_type": "code",
    "id": "7QG7sxmoCIvN"
   },
   "outputs": [],
   "source": [
    "import pandas as pd"
   ]
  },
  {
   "cell_type": "code",
   "execution_count": 19,
   "metadata": {
    "colab": {},
    "colab_type": "code",
    "id": "UCK6vQ5QCQJe"
   },
   "outputs": [],
   "source": [
    "dataset = pd.read_csv('finalreview.csv')"
   ]
  },
  {
   "cell_type": "code",
   "execution_count": 20,
   "metadata": {},
   "outputs": [
    {
     "data": {
      "text/html": [
       "<div>\n",
       "<style scoped>\n",
       "    .dataframe tbody tr th:only-of-type {\n",
       "        vertical-align: middle;\n",
       "    }\n",
       "\n",
       "    .dataframe tbody tr th {\n",
       "        vertical-align: top;\n",
       "    }\n",
       "\n",
       "    .dataframe thead th {\n",
       "        text-align: right;\n",
       "    }\n",
       "</style>\n",
       "<table border=\"1\" class=\"dataframe\">\n",
       "  <thead>\n",
       "    <tr style=\"text-align: right;\">\n",
       "      <th></th>\n",
       "      <th>review</th>\n",
       "      <th>label</th>\n",
       "    </tr>\n",
       "  </thead>\n",
       "  <tbody>\n",
       "    <tr>\n",
       "      <th>145</th>\n",
       "      <td>Poor performances and lackluster storytelling.</td>\n",
       "      <td>0</td>\n",
       "    </tr>\n",
       "    <tr>\n",
       "      <th>146</th>\n",
       "      <td>Worst movie I have ever seen, completely boring.</td>\n",
       "      <td>0</td>\n",
       "    </tr>\n",
       "    <tr>\n",
       "      <th>147</th>\n",
       "      <td>Regret watching it, an absolute waste of time.</td>\n",
       "      <td>0</td>\n",
       "    </tr>\n",
       "    <tr>\n",
       "      <th>148</th>\n",
       "      <td>Terrible direction and even worse acting.</td>\n",
       "      <td>0</td>\n",
       "    </tr>\n",
       "    <tr>\n",
       "      <th>149</th>\n",
       "      <td>Regret watching it, an absolute waste of time.</td>\n",
       "      <td>0</td>\n",
       "    </tr>\n",
       "  </tbody>\n",
       "</table>\n",
       "</div>"
      ],
      "text/plain": [
       "                                               review  label\n",
       "145    Poor performances and lackluster storytelling.      0\n",
       "146  Worst movie I have ever seen, completely boring.      0\n",
       "147    Regret watching it, an absolute waste of time.      0\n",
       "148         Terrible direction and even worse acting.      0\n",
       "149    Regret watching it, an absolute waste of time.      0"
      ]
     },
     "execution_count": 20,
     "metadata": {},
     "output_type": "execute_result"
    }
   ],
   "source": [
    "dataset.tail()"
   ]
  },
  {
   "cell_type": "code",
   "execution_count": 21,
   "metadata": {
    "colab": {
     "base_uri": "https://localhost:8080/",
     "height": 52
    },
    "colab_type": "code",
    "id": "8u_yXh9dCmEE",
    "outputId": "bdcb9868-74c8-40b2-e5e9-877b949ce385"
   },
   "outputs": [
    {
     "name": "stderr",
     "output_type": "stream",
     "text": [
      "[nltk_data] Downloading package stopwords to\n",
      "[nltk_data]     C:\\Users\\piyus\\AppData\\Roaming\\nltk_data...\n",
      "[nltk_data]   Package stopwords is already up-to-date!\n",
      "[nltk_data] Downloading package wordnet to\n",
      "[nltk_data]     C:\\Users\\piyus\\AppData\\Roaming\\nltk_data...\n",
      "[nltk_data]   Package wordnet is already up-to-date!\n"
     ]
    }
   ],
   "source": [
    "import re\n",
    "import nltk\n",
    "nltk.download('stopwords')\n",
    "from nltk.corpus import stopwords\n",
    "nltk.download('wordnet')\n",
    "from nltk.stem import WordNetLemmatizer\n",
    "corpus = []\n",
    "for i in range(0, 150):\n",
    "  review = re.sub('[^a-zA-Z0-9]', ' ', dataset['review'][i])\n",
    "  review = review.lower()\n",
    "  review = review.split()\n",
    "  lm = WordNetLemmatizer()\n",
    "  all_stopwords = stopwords.words('english')\n",
    "  all_stopwords.remove('not')\n",
    "  review = [lm.lemmatize(word) for word in review if not word in set(all_stopwords)]\n",
    "  review = ' '.join(review)\n",
    "  corpus.append(review)"
   ]
  },
  {
   "cell_type": "code",
   "execution_count": 22,
   "metadata": {
    "colab": {
     "base_uri": "https://localhost:8080/",
     "height": 55
    },
    "colab_type": "code",
    "id": "KpGWdrzGoAsL",
    "outputId": "a1d5020d-8005-4735-d4b9-ad99fb366534"
   },
   "outputs": [
    {
     "name": "stdout",
     "output_type": "stream",
     "text": [
      "['loved movie action best performance every actor', 'good movie blockbuster cinema', 'loved movie acting', 'best part acting awesome performance', 'total waste money', 'poor storyline bad performance lead', 'give 9 10 one 9 10 editing much fast except everything felt right place', 'first half slow boring', 'song best part movie liked', 'waste time money rubbish movie', 'give big zero waste', 'total overacting lead', 'doubt film changing face film industry every people put hard work effort', 'best indian movie nothing compared', 'movie known suspense thriller missing film really bad', 'good story great visuals best part many character film really increase curiosity audience acting awesome', 'worst movie decade giving 1 star 5', 'illogical action sequence usual', 'remarkable direction outstanding acting monumental narration unthinkable screenplay striking action sequence', 'meaningless appropriate boring', 'undoubtedly one worst big budget commercial movie seen', '3rd class acting screen work extremely disappointed', 'worst movie ever seen whole life boring nonsense', 'epic milestone film industry proud indian great movie best time', 'fabulous work done lead get bored watching movie screenplay background music cinematography amazing', 'movie win whole film industry', 'performance average actor literally walked talked acted like robot', 'movie ridiculous bad bad bad bad', 'garbage movie 0 5', 'performance mindblowing depiction ancient time perfect', 'fantastic movie writting best performance actor actress', 'superb flop movie ever seen life loser lead', 'stunt not important acting also required people not foolish waste movie together', 'movie horrible worst movie dont like one', 'lead acting like fool rubbish story bad', 'game changer mass cinematic brilliance', 'mind blowing experience watch masterpiece movie family enjoyed lot', 'literally background movie gave goosebump best movie decade', 'movie banned disrespectfull', 'movie masterpiece unique story absolutely stunning movie', 'worst movie ever seen whole life waste money', 'one powerful movie ever watched', 'movie disaster weak narrative bad acting', 'excellent story best screen play great direction awesome cinematography immpresive dialogue engaging lyric background score', 'flop movie worst worst worst film decade', 'best indian action film absolutely brilliant story direction', 'movie one favorite engaging music loved', 'action unnecessary dialoges boring', 'best best best great movie ever seen entire life', 'movie horrible worst movie recommend waste money shit', 'amazing direction stellar performance', 'movie fantastic great plot acting', 'movie fantastic great plot acting', 'loved every second would watch', 'amazing direction stellar performance', 'emotional rollercoaster great visuals', 'top notch acting gripping storyline', 'loved every second would watch', 'brilliant cinematography excellent story', 'movie exceeded expectation', 'one best movie year hand', 'movie fantastic great plot acting', 'movie fantastic great plot acting', 'loved every second would watch', 'movie fantastic great plot acting', 'movie fantastic great plot acting', 'movie fantastic great plot acting', 'loved every second would watch', 'soundtrack story perfectly aligned', 'absolutely loved must watch', 'emotional rollercoaster great visuals', 'soundtrack story perfectly aligned', 'absolutely loved must watch', 'brilliant cinematography excellent story', 'absolutely loved must watch', 'movie exceeded expectation', 'top notch acting gripping storyline', 'absolutely loved must watch', 'amazing direction stellar performance', 'absolutely loved must watch', 'one best movie year hand', 'loved every second would watch', 'top notch acting gripping storyline', 'movie exceeded expectation', 'emotional rollercoaster great visuals', 'brilliant cinematography excellent story', 'emotional rollercoaster great visuals', 'movie fantastic great plot acting', 'movie exceeded expectation', 'amazing direction stellar performance', 'one best movie year hand', 'brilliant cinematography excellent story', 'movie exceeded expectation', 'emotional rollercoaster great visuals', 'movie fantastic great plot acting', 'top notch acting gripping storyline', 'top notch acting gripping storyline', 'movie exceeded expectation', 'soundtrack story perfectly aligned', 'top notch acting gripping storyline', 'poor performance lackluster storytelling', 'character unrelatable annoying', 'total disappointment not worth time', 'total disappointment not worth time', 'character unrelatable annoying', 'terrible direction even worse acting', 'character unrelatable annoying', 'character unrelatable annoying', 'plot incoherent dull', 'uninspired poorly executed avoid one', 'regret watching absolute waste time', 'poor performance lackluster storytelling', 'nothing redeeming movie complete flop', 'poor performance lackluster storytelling', 'character unrelatable annoying', 'uninspired poorly executed avoid one', 'total disappointment not worth time', 'plot incoherent dull', 'plot incoherent dull', 'terrible direction even worse acting', 'poor performance lackluster storytelling', 'regret watching absolute waste time', 'worst movie ever seen completely boring', 'nothing redeeming movie complete flop', 'regret watching absolute waste time', 'plot incoherent dull', 'uninspired poorly executed avoid one', 'regret watching absolute waste time', 'character unrelatable annoying', 'predictable forgettable experience', 'terrible direction even worse acting', 'nothing redeeming movie complete flop', 'terrible direction even worse acting', 'character unrelatable annoying', 'total disappointment not worth time', 'uninspired poorly executed avoid one', 'nothing redeeming movie complete flop', 'terrible direction even worse acting', 'worst movie ever seen completely boring', 'plot incoherent dull', 'uninspired poorly executed avoid one', 'poor performance lackluster storytelling', 'poor performance lackluster storytelling', 'regret watching absolute waste time', 'worst movie ever seen completely boring', 'poor performance lackluster storytelling', 'worst movie ever seen completely boring', 'regret watching absolute waste time', 'terrible direction even worse acting', 'regret watching absolute waste time']\n"
     ]
    }
   ],
   "source": [
    "print(corpus)"
   ]
  },
  {
   "cell_type": "code",
   "execution_count": 23,
   "metadata": {
    "colab": {},
    "colab_type": "code",
    "id": "qroF7XcSCvY3"
   },
   "outputs": [
    {
     "data": {
      "text/plain": [
       "(218,)"
      ]
     },
     "execution_count": 23,
     "metadata": {},
     "output_type": "execute_result"
    }
   ],
   "source": [
    "from sklearn.feature_extraction.text import CountVectorizer\n",
    "cv = CountVectorizer()\n",
    "X = cv.fit_transform(corpus).toarray()\n",
    "y = dataset['label']\n",
    "X[0].shape"
   ]
  },
  {
   "cell_type": "code",
   "execution_count": 24,
   "metadata": {
    "colab": {},
    "colab_type": "code",
    "id": "qQXYM5VzDDDI"
   },
   "outputs": [],
   "source": [
    "from sklearn.model_selection import train_test_split\n",
    "X_train, X_test, y_train, y_test = train_test_split(X, y, test_size = 0.20, random_state = 3)"
   ]
  },
  {
   "cell_type": "code",
   "execution_count": 25,
   "metadata": {
    "colab": {
     "base_uri": "https://localhost:8080/",
     "height": 34
    },
    "colab_type": "code",
    "id": "DS9oiDXXDRdI",
    "outputId": "77513c39-0ec6-4544-c056-26abe055b746"
   },
   "outputs": [
    {
     "data": {
      "text/html": [
       "<style>#sk-container-id-1 {color: black;background-color: white;}#sk-container-id-1 pre{padding: 0;}#sk-container-id-1 div.sk-toggleable {background-color: white;}#sk-container-id-1 label.sk-toggleable__label {cursor: pointer;display: block;width: 100%;margin-bottom: 0;padding: 0.3em;box-sizing: border-box;text-align: center;}#sk-container-id-1 label.sk-toggleable__label-arrow:before {content: \"▸\";float: left;margin-right: 0.25em;color: #696969;}#sk-container-id-1 label.sk-toggleable__label-arrow:hover:before {color: black;}#sk-container-id-1 div.sk-estimator:hover label.sk-toggleable__label-arrow:before {color: black;}#sk-container-id-1 div.sk-toggleable__content {max-height: 0;max-width: 0;overflow: hidden;text-align: left;background-color: #f0f8ff;}#sk-container-id-1 div.sk-toggleable__content pre {margin: 0.2em;color: black;border-radius: 0.25em;background-color: #f0f8ff;}#sk-container-id-1 input.sk-toggleable__control:checked~div.sk-toggleable__content {max-height: 200px;max-width: 100%;overflow: auto;}#sk-container-id-1 input.sk-toggleable__control:checked~label.sk-toggleable__label-arrow:before {content: \"▾\";}#sk-container-id-1 div.sk-estimator input.sk-toggleable__control:checked~label.sk-toggleable__label {background-color: #d4ebff;}#sk-container-id-1 div.sk-label input.sk-toggleable__control:checked~label.sk-toggleable__label {background-color: #d4ebff;}#sk-container-id-1 input.sk-hidden--visually {border: 0;clip: rect(1px 1px 1px 1px);clip: rect(1px, 1px, 1px, 1px);height: 1px;margin: -1px;overflow: hidden;padding: 0;position: absolute;width: 1px;}#sk-container-id-1 div.sk-estimator {font-family: monospace;background-color: #f0f8ff;border: 1px dotted black;border-radius: 0.25em;box-sizing: border-box;margin-bottom: 0.5em;}#sk-container-id-1 div.sk-estimator:hover {background-color: #d4ebff;}#sk-container-id-1 div.sk-parallel-item::after {content: \"\";width: 100%;border-bottom: 1px solid gray;flex-grow: 1;}#sk-container-id-1 div.sk-label:hover label.sk-toggleable__label {background-color: #d4ebff;}#sk-container-id-1 div.sk-serial::before {content: \"\";position: absolute;border-left: 1px solid gray;box-sizing: border-box;top: 0;bottom: 0;left: 50%;z-index: 0;}#sk-container-id-1 div.sk-serial {display: flex;flex-direction: column;align-items: center;background-color: white;padding-right: 0.2em;padding-left: 0.2em;position: relative;}#sk-container-id-1 div.sk-item {position: relative;z-index: 1;}#sk-container-id-1 div.sk-parallel {display: flex;align-items: stretch;justify-content: center;background-color: white;position: relative;}#sk-container-id-1 div.sk-item::before, #sk-container-id-1 div.sk-parallel-item::before {content: \"\";position: absolute;border-left: 1px solid gray;box-sizing: border-box;top: 0;bottom: 0;left: 50%;z-index: -1;}#sk-container-id-1 div.sk-parallel-item {display: flex;flex-direction: column;z-index: 1;position: relative;background-color: white;}#sk-container-id-1 div.sk-parallel-item:first-child::after {align-self: flex-end;width: 50%;}#sk-container-id-1 div.sk-parallel-item:last-child::after {align-self: flex-start;width: 50%;}#sk-container-id-1 div.sk-parallel-item:only-child::after {width: 0;}#sk-container-id-1 div.sk-dashed-wrapped {border: 1px dashed gray;margin: 0 0.4em 0.5em 0.4em;box-sizing: border-box;padding-bottom: 0.4em;background-color: white;}#sk-container-id-1 div.sk-label label {font-family: monospace;font-weight: bold;display: inline-block;line-height: 1.2em;}#sk-container-id-1 div.sk-label-container {text-align: center;}#sk-container-id-1 div.sk-container {/* jupyter's `normalize.less` sets `[hidden] { display: none; }` but bootstrap.min.css set `[hidden] { display: none !important; }` so we also need the `!important` here to be able to override the default hidden behavior on the sphinx rendered scikit-learn.org. See: https://github.com/scikit-learn/scikit-learn/issues/21755 */display: inline-block !important;position: relative;}#sk-container-id-1 div.sk-text-repr-fallback {display: none;}</style><div id=\"sk-container-id-1\" class=\"sk-top-container\"><div class=\"sk-text-repr-fallback\"><pre>LogisticRegression()</pre><b>In a Jupyter environment, please rerun this cell to show the HTML representation or trust the notebook. <br />On GitHub, the HTML representation is unable to render, please try loading this page with nbviewer.org.</b></div><div class=\"sk-container\" hidden><div class=\"sk-item\"><div class=\"sk-estimator sk-toggleable\"><input class=\"sk-toggleable__control sk-hidden--visually\" id=\"sk-estimator-id-1\" type=\"checkbox\" checked><label for=\"sk-estimator-id-1\" class=\"sk-toggleable__label sk-toggleable__label-arrow\">LogisticRegression</label><div class=\"sk-toggleable__content\"><pre>LogisticRegression()</pre></div></div></div></div></div>"
      ],
      "text/plain": [
       "LogisticRegression()"
      ]
     },
     "execution_count": 25,
     "metadata": {},
     "output_type": "execute_result"
    }
   ],
   "source": [
    "from sklearn.linear_model import LogisticRegression\n",
    "classifier = LogisticRegression()\n",
    "classifier.fit(X_train, y_train)"
   ]
  },
  {
   "cell_type": "code",
   "execution_count": 26,
   "metadata": {
    "colab": {
     "base_uri": "https://localhost:8080/",
     "height": 1000
    },
    "colab_type": "code",
    "id": "Iif0CVhFDaMp",
    "outputId": "1266c3f2-d500-440e-d756-e0eabad504a7"
   },
   "outputs": [
    {
     "name": "stdout",
     "output_type": "stream",
     "text": [
      "[0 1 0 1 1 0 1 0 0 1 1 1 1 1 0 0 1 0 0 0 0 0 0 1 0 0 0 1 1 1]\n"
     ]
    }
   ],
   "source": [
    "y_pred = classifier.predict(X_test)\n",
    "print(y_pred)"
   ]
  },
  {
   "cell_type": "code",
   "execution_count": 27,
   "metadata": {
    "colab": {
     "base_uri": "https://localhost:8080/",
     "height": 68
    },
    "colab_type": "code",
    "id": "Xj9IU6MxDnvo",
    "outputId": "43efba29-9811-4913-a085-8355ec1c02cb"
   },
   "outputs": [
    {
     "data": {
      "text/plain": [
       "0.9333333333333333"
      ]
     },
     "execution_count": 27,
     "metadata": {},
     "output_type": "execute_result"
    }
   ],
   "source": [
    "from sklearn.metrics import accuracy_score\n",
    "accuracy_score(y_test, y_pred)"
   ]
  },
  {
   "cell_type": "code",
   "execution_count": 28,
   "metadata": {},
   "outputs": [],
   "source": [
    "import pickle\n",
    "pickle.dump(classifier, open('nlpmodel.pkl','wb'))\n",
    "pickle.dump(cv, open('vector.pkl','wb'))"
   ]
  },
  {
   "cell_type": "code",
   "execution_count": null,
   "metadata": {},
   "outputs": [],
   "source": []
  }
 ],
 "metadata": {
  "colab": {
   "collapsed_sections": [],
   "name": "natural_language_processing.ipynb",
   "provenance": [],
   "toc_visible": true
  },
  "kernelspec": {
   "display_name": "Python 3 (ipykernel)",
   "language": "python",
   "name": "python3"
  },
  "language_info": {
   "codemirror_mode": {
    "name": "ipython",
    "version": 3
   },
   "file_extension": ".py",
   "mimetype": "text/x-python",
   "name": "python",
   "nbconvert_exporter": "python",
   "pygments_lexer": "ipython3",
   "version": "3.11.7"
  }
 },
 "nbformat": 4,
 "nbformat_minor": 4
}
